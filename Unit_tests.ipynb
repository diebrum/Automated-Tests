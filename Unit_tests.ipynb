{
  "nbformat": 4,
  "nbformat_minor": 0,
  "metadata": {
    "colab": {
      "provenance": []
    },
    "kernelspec": {
      "name": "python3",
      "display_name": "Python 3"
    },
    "language_info": {
      "name": "python"
    }
  },
  "cells": [
    {
      "cell_type": "code",
      "execution_count": null,
      "metadata": {
        "id": "-JLPGPVUSNiK"
      },
      "outputs": [],
      "source": [
        "!pip install pytest"
      ]
    },
    {
      "cell_type": "code",
      "source": [],
      "metadata": {
        "id": "kITihH7OT9IQ"
      },
      "execution_count": 3,
      "outputs": []
    },
    {
      "cell_type": "code",
      "source": [
        "%%writefile tests.py\n",
        "import pytest\n",
        "\n",
        "def add_numbers(a, b):\n",
        "    return a + b\n",
        "\n",
        "def test_add_numbers():\n",
        "    assert add_numbers(2, 3) == 5\n",
        "    assert add_numbers(0, 0) == 0\n",
        "    assert add_numbers(-1, 1) == 0\n",
        "\n"
      ],
      "metadata": {
        "colab": {
          "base_uri": "https://localhost:8080/"
        },
        "id": "QaxkqGWuT9u8",
        "outputId": "60081bbb-08a8-4f12-d7f3-d41704a28cd8"
      },
      "execution_count": 18,
      "outputs": [
        {
          "output_type": "stream",
          "name": "stdout",
          "text": [
            "Overwriting tests.py\n"
          ]
        }
      ]
    },
    {
      "cell_type": "code",
      "source": [
        "%%writefile run_on_push.yml\n",
        "\n",
        "name: Run Python script on push\n",
        "\n",
        "on:\n",
        "  push:\n",
        "    branches: [ main ] # replace 'main' with your default branch name\n",
        "\n",
        "jobs:\n",
        "  build:\n",
        "    runs-on: ubuntu-latest\n",
        "    \n",
        "    steps:\n",
        "    - name: Checkout code\n",
        "      uses: actions/checkout@v2\n",
        "      \n",
        "    - name: Set up Python\n",
        "      uses: actions/setup-python@v2\n",
        "      with:\n",
        "        python-version: '3.x' # replace '3.x' with the version of Python you are using\n",
        "        \n",
        "    - name: Install dependencies\n",
        "      run: |\n",
        "        python -m pip install --upgrade pip\n",
        "        pip install -r requirements.txt # replace 'requirements.txt' with the name of your requirements file\n",
        "        \n",
        "    - name: Run Python script\n",
        "      run: python script.py # replace 'script.py' with the name of your Python script\n"
      ],
      "metadata": {
        "colab": {
          "base_uri": "https://localhost:8080/"
        },
        "id": "ezvfkvExxg7E",
        "outputId": "ee63a9b3-b08f-4ab6-9937-079c0197ee1d"
      },
      "execution_count": 19,
      "outputs": [
        {
          "output_type": "stream",
          "name": "stdout",
          "text": [
            "Writing run_on_push.yml\n"
          ]
        }
      ]
    },
    {
      "cell_type": "code",
      "source": [],
      "metadata": {
        "id": "nTlq1KHRYaHL"
      },
      "execution_count": null,
      "outputs": []
    },
    {
      "cell_type": "code",
      "source": [
        "!pytest /content/tests.py -s\n"
      ],
      "metadata": {
        "colab": {
          "base_uri": "https://localhost:8080/"
        },
        "id": "9uw76rWdT9yD",
        "outputId": "df32b941-f852-4ce3-85f5-4fd1748b82d7"
      },
      "execution_count": 17,
      "outputs": [
        {
          "output_type": "stream",
          "name": "stdout",
          "text": [
            "\u001b[1m============================= test session starts ==============================\u001b[0m\n",
            "platform linux -- Python 3.9.16, pytest-7.2.2, pluggy-1.0.0\n",
            "rootdir: /content\n",
            "plugins: anyio-3.6.2\n",
            "\u001b[1mcollecting ... \u001b[0m\u001b[1m\rcollected 1 item                                                               \u001b[0m\n",
            "\n",
            "tests.py \u001b[32m.\u001b[0m\n",
            "\n",
            "\u001b[32m============================== \u001b[32m\u001b[1m1 passed\u001b[0m\u001b[32m in 0.02s\u001b[0m\u001b[32m ===============================\u001b[0m\n"
          ]
        }
      ]
    },
    {
      "cell_type": "code",
      "source": [],
      "metadata": {
        "id": "SFozcRStT91D"
      },
      "execution_count": null,
      "outputs": []
    },
    {
      "cell_type": "code",
      "source": [],
      "metadata": {
        "id": "KH1IJ2P5T93r"
      },
      "execution_count": null,
      "outputs": []
    },
    {
      "cell_type": "code",
      "source": [],
      "metadata": {
        "id": "Uk8cYqOQT96j"
      },
      "execution_count": null,
      "outputs": []
    },
    {
      "cell_type": "code",
      "source": [],
      "metadata": {
        "id": "6yeDS2Y6T99M"
      },
      "execution_count": null,
      "outputs": []
    }
  ]
}